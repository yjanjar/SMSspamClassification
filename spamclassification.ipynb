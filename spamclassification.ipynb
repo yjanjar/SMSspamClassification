{
 "metadata": {
  "language_info": {
   "codemirror_mode": {
    "name": "ipython",
    "version": 3
   },
   "file_extension": ".py",
   "mimetype": "text/x-python",
   "name": "python",
   "nbconvert_exporter": "python",
   "pygments_lexer": "ipython3",
   "version": "3.8.6-final"
  },
  "orig_nbformat": 2,
  "kernelspec": {
   "name": "python3",
   "display_name": "Python 3.8.6 64-bit ('venv')",
   "metadata": {
    "interpreter": {
     "hash": "57a5aba571c0a520ffbbdba62953c0cc1fc35ccbb8a9d8eb94148ba3e73b67dc"
    }
   }
  }
 },
 "nbformat": 4,
 "nbformat_minor": 2,
 "cells": [
  {
   "source": [
    " # Natural Language Processing for Spam classification."
   ],
   "cell_type": "markdown",
   "metadata": {}
  },
  {
   "source": [
    "#Imports\n",
    "import sys\n",
    "import nltk\n",
    "import sklearn\n",
    "import pandas\n",
    "import numpy\n",
    "seed = 2020"
   ],
   "cell_type": "code",
   "metadata": {},
   "execution_count": 20,
   "outputs": []
  },
  {
   "source": [
    "### 2. Load the Dataset\n",
    "Now that we have ensured that our libraries are installed correctly, let's load the data set as a Pandas DataFrame. Furthermore, let's extract some useful information such as the column information and class distributions.\n",
    "\n",
    "The data set we will be using comes from the UCI Machine Learning Repository. It contains over 5000 SMS labeled messages that have been collected for mobile phone spam research. "
   ],
   "cell_type": "markdown",
   "metadata": {}
  },
  {
   "cell_type": "code",
   "execution_count": 3,
   "metadata": {},
   "outputs": [],
   "source": [
    "import pandas as pd\n",
    "import numpy as np\n",
    "\n",
    "# load the dataset of SMS messages. Change it to the right local path.\n",
    "df = pd.read_table('smsspamcollection/SMSSPamCollection', header=None, encoding='utf-8')"
   ]
  },
  {
   "cell_type": "code",
   "execution_count": 4,
   "metadata": {},
   "outputs": [
    {
     "output_type": "stream",
     "name": "stdout",
     "text": [
      "<class 'pandas.core.frame.DataFrame'>\nRangeIndex: 5572 entries, 0 to 5571\nData columns (total 2 columns):\n #   Column  Non-Null Count  Dtype \n---  ------  --------------  ----- \n 0   0       5572 non-null   object\n 1   1       5572 non-null   object\ndtypes: object(2)\nmemory usage: 87.2+ KB\nNone\n      0                                                  1\n0   ham  Go until jurong point, crazy.. Available only ...\n1   ham                      Ok lar... Joking wif u oni...\n2  spam  Free entry in 2 a wkly comp to win FA Cup fina...\n3   ham  U dun say so early hor... U c already then say...\n4   ham  Nah I don't think he goes to usf, he lives aro...\n"
     ]
    }
   ],
   "source": [
    "# print useful information about the dataset\n",
    "print(df.info())\n",
    "print(df.head())"
   ]
  },
  {
   "cell_type": "code",
   "execution_count": 6,
   "metadata": {},
   "outputs": [
    {
     "output_type": "stream",
     "name": "stdout",
     "text": [
      "ham     4825\nspam     747\nName: 0, dtype: int64\n"
     ]
    },
    {
     "output_type": "execute_result",
     "data": {
      "text/plain": [
       "Text(0.5, 1.0, 'Classes distribution')"
      ]
     },
     "metadata": {},
     "execution_count": 6
    },
    {
     "output_type": "display_data",
     "data": {
      "text/plain": "<Figure size 432x288 with 1 Axes>",
      "image/svg+xml": "<?xml version=\"1.0\" encoding=\"utf-8\" standalone=\"no\"?>\n<!DOCTYPE svg PUBLIC \"-//W3C//DTD SVG 1.1//EN\"\n  \"http://www.w3.org/Graphics/SVG/1.1/DTD/svg11.dtd\">\n<!-- Created with matplotlib (https://matplotlib.org/) -->\n<svg height=\"281.384688pt\" version=\"1.1\" viewBox=\"0 0 381.65 281.384688\" width=\"381.65pt\" xmlns=\"http://www.w3.org/2000/svg\" xmlns:xlink=\"http://www.w3.org/1999/xlink\">\n <metadata>\n  <rdf:RDF xmlns:cc=\"http://creativecommons.org/ns#\" xmlns:dc=\"http://purl.org/dc/elements/1.1/\" xmlns:rdf=\"http://www.w3.org/1999/02/22-rdf-syntax-ns#\">\n   <cc:Work>\n    <dc:type rdf:resource=\"http://purl.org/dc/dcmitype/StillImage\"/>\n    <dc:date>2020-11-21T18:27:57.604281</dc:date>\n    <dc:format>image/svg+xml</dc:format>\n    <dc:creator>\n     <cc:Agent>\n      <dc:title>Matplotlib v3.3.2, https://matplotlib.org/</dc:title>\n     </cc:Agent>\n    </dc:creator>\n   </cc:Work>\n  </rdf:RDF>\n </metadata>\n <defs>\n  <style type=\"text/css\">*{stroke-linecap:butt;stroke-linejoin:round;}</style>\n </defs>\n <g id=\"figure_1\">\n  <g id=\"patch_1\">\n   <path d=\"M -0 281.384688 \nL 381.65 281.384688 \nL 381.65 0 \nL -0 0 \nz\n\" style=\"fill:none;\"/>\n  </g>\n  <g id=\"axes_1\">\n   <g id=\"patch_2\">\n    <path d=\"M 39.65 239.758125 \nL 374.45 239.758125 \nL 374.45 22.318125 \nL 39.65 22.318125 \nz\n\" style=\"fill:#ffffff;\"/>\n   </g>\n   <g id=\"patch_3\">\n    <path clip-path=\"url(#p2d5b411b09)\" d=\"M 81.5 239.758125 \nL 165.2 239.758125 \nL 165.2 32.672411 \nL 81.5 32.672411 \nz\n\" style=\"fill:#1f77b4;\"/>\n   </g>\n   <g id=\"patch_4\">\n    <path clip-path=\"url(#p2d5b411b09)\" d=\"M 248.9 239.758125 \nL 332.6 239.758125 \nL 332.6 207.697394 \nL 248.9 207.697394 \nz\n\" style=\"fill:#1f77b4;\"/>\n   </g>\n   <g id=\"matplotlib.axis_1\">\n    <g id=\"xtick_1\">\n     <g id=\"line2d_1\">\n      <defs>\n       <path d=\"M 0 0 \nL 0 3.5 \n\" id=\"maa2cbb25f9\" style=\"stroke:#000000;stroke-width:0.8;\"/>\n      </defs>\n      <g>\n       <use style=\"stroke:#000000;stroke-width:0.8;\" x=\"123.35\" xlink:href=\"#maa2cbb25f9\" y=\"239.758125\"/>\n      </g>\n     </g>\n     <g id=\"text_1\">\n      <!-- ham -->\n      <g transform=\"translate(126.109375 268.964375)rotate(-90)scale(0.1 -0.1)\">\n       <defs>\n        <path d=\"M 54.890625 33.015625 \nL 54.890625 0 \nL 45.90625 0 \nL 45.90625 32.71875 \nQ 45.90625 40.484375 42.875 44.328125 \nQ 39.84375 48.1875 33.796875 48.1875 \nQ 26.515625 48.1875 22.3125 43.546875 \nQ 18.109375 38.921875 18.109375 30.90625 \nL 18.109375 0 \nL 9.078125 0 \nL 9.078125 75.984375 \nL 18.109375 75.984375 \nL 18.109375 46.1875 \nQ 21.34375 51.125 25.703125 53.5625 \nQ 30.078125 56 35.796875 56 \nQ 45.21875 56 50.046875 50.171875 \nQ 54.890625 44.34375 54.890625 33.015625 \nz\n\" id=\"DejaVuSans-104\"/>\n        <path d=\"M 34.28125 27.484375 \nQ 23.390625 27.484375 19.1875 25 \nQ 14.984375 22.515625 14.984375 16.5 \nQ 14.984375 11.71875 18.140625 8.90625 \nQ 21.296875 6.109375 26.703125 6.109375 \nQ 34.1875 6.109375 38.703125 11.40625 \nQ 43.21875 16.703125 43.21875 25.484375 \nL 43.21875 27.484375 \nz\nM 52.203125 31.203125 \nL 52.203125 0 \nL 43.21875 0 \nL 43.21875 8.296875 \nQ 40.140625 3.328125 35.546875 0.953125 \nQ 30.953125 -1.421875 24.3125 -1.421875 \nQ 15.921875 -1.421875 10.953125 3.296875 \nQ 6 8.015625 6 15.921875 \nQ 6 25.140625 12.171875 29.828125 \nQ 18.359375 34.515625 30.609375 34.515625 \nL 43.21875 34.515625 \nL 43.21875 35.40625 \nQ 43.21875 41.609375 39.140625 45 \nQ 35.0625 48.390625 27.6875 48.390625 \nQ 23 48.390625 18.546875 47.265625 \nQ 14.109375 46.140625 10.015625 43.890625 \nL 10.015625 52.203125 \nQ 14.9375 54.109375 19.578125 55.046875 \nQ 24.21875 56 28.609375 56 \nQ 40.484375 56 46.34375 49.84375 \nQ 52.203125 43.703125 52.203125 31.203125 \nz\n\" id=\"DejaVuSans-97\"/>\n        <path d=\"M 52 44.1875 \nQ 55.375 50.25 60.0625 53.125 \nQ 64.75 56 71.09375 56 \nQ 79.640625 56 84.28125 50.015625 \nQ 88.921875 44.046875 88.921875 33.015625 \nL 88.921875 0 \nL 79.890625 0 \nL 79.890625 32.71875 \nQ 79.890625 40.578125 77.09375 44.375 \nQ 74.3125 48.1875 68.609375 48.1875 \nQ 61.625 48.1875 57.5625 43.546875 \nQ 53.515625 38.921875 53.515625 30.90625 \nL 53.515625 0 \nL 44.484375 0 \nL 44.484375 32.71875 \nQ 44.484375 40.625 41.703125 44.40625 \nQ 38.921875 48.1875 33.109375 48.1875 \nQ 26.21875 48.1875 22.15625 43.53125 \nQ 18.109375 38.875 18.109375 30.90625 \nL 18.109375 0 \nL 9.078125 0 \nL 9.078125 54.6875 \nL 18.109375 54.6875 \nL 18.109375 46.1875 \nQ 21.1875 51.21875 25.484375 53.609375 \nQ 29.78125 56 35.6875 56 \nQ 41.65625 56 45.828125 52.96875 \nQ 50 49.953125 52 44.1875 \nz\n\" id=\"DejaVuSans-109\"/>\n       </defs>\n       <use xlink:href=\"#DejaVuSans-104\"/>\n       <use x=\"63.378906\" xlink:href=\"#DejaVuSans-97\"/>\n       <use x=\"124.658203\" xlink:href=\"#DejaVuSans-109\"/>\n      </g>\n     </g>\n    </g>\n    <g id=\"xtick_2\">\n     <g id=\"line2d_2\">\n      <g>\n       <use style=\"stroke:#000000;stroke-width:0.8;\" x=\"290.75\" xlink:href=\"#maa2cbb25f9\" y=\"239.758125\"/>\n      </g>\n     </g>\n     <g id=\"text_2\">\n      <!-- spam -->\n      <g transform=\"translate(293.509375 274.184688)rotate(-90)scale(0.1 -0.1)\">\n       <defs>\n        <path d=\"M 44.28125 53.078125 \nL 44.28125 44.578125 \nQ 40.484375 46.53125 36.375 47.5 \nQ 32.28125 48.484375 27.875 48.484375 \nQ 21.1875 48.484375 17.84375 46.4375 \nQ 14.5 44.390625 14.5 40.28125 \nQ 14.5 37.15625 16.890625 35.375 \nQ 19.28125 33.59375 26.515625 31.984375 \nL 29.59375 31.296875 \nQ 39.15625 29.25 43.1875 25.515625 \nQ 47.21875 21.78125 47.21875 15.09375 \nQ 47.21875 7.46875 41.1875 3.015625 \nQ 35.15625 -1.421875 24.609375 -1.421875 \nQ 20.21875 -1.421875 15.453125 -0.5625 \nQ 10.6875 0.296875 5.421875 2 \nL 5.421875 11.28125 \nQ 10.40625 8.6875 15.234375 7.390625 \nQ 20.0625 6.109375 24.8125 6.109375 \nQ 31.15625 6.109375 34.5625 8.28125 \nQ 37.984375 10.453125 37.984375 14.40625 \nQ 37.984375 18.0625 35.515625 20.015625 \nQ 33.0625 21.96875 24.703125 23.78125 \nL 21.578125 24.515625 \nQ 13.234375 26.265625 9.515625 29.90625 \nQ 5.8125 33.546875 5.8125 39.890625 \nQ 5.8125 47.609375 11.28125 51.796875 \nQ 16.75 56 26.8125 56 \nQ 31.78125 56 36.171875 55.265625 \nQ 40.578125 54.546875 44.28125 53.078125 \nz\n\" id=\"DejaVuSans-115\"/>\n        <path d=\"M 18.109375 8.203125 \nL 18.109375 -20.796875 \nL 9.078125 -20.796875 \nL 9.078125 54.6875 \nL 18.109375 54.6875 \nL 18.109375 46.390625 \nQ 20.953125 51.265625 25.265625 53.625 \nQ 29.59375 56 35.59375 56 \nQ 45.5625 56 51.78125 48.09375 \nQ 58.015625 40.1875 58.015625 27.296875 \nQ 58.015625 14.40625 51.78125 6.484375 \nQ 45.5625 -1.421875 35.59375 -1.421875 \nQ 29.59375 -1.421875 25.265625 0.953125 \nQ 20.953125 3.328125 18.109375 8.203125 \nz\nM 48.6875 27.296875 \nQ 48.6875 37.203125 44.609375 42.84375 \nQ 40.53125 48.484375 33.40625 48.484375 \nQ 26.265625 48.484375 22.1875 42.84375 \nQ 18.109375 37.203125 18.109375 27.296875 \nQ 18.109375 17.390625 22.1875 11.75 \nQ 26.265625 6.109375 33.40625 6.109375 \nQ 40.53125 6.109375 44.609375 11.75 \nQ 48.6875 17.390625 48.6875 27.296875 \nz\n\" id=\"DejaVuSans-112\"/>\n       </defs>\n       <use xlink:href=\"#DejaVuSans-115\"/>\n       <use x=\"52.099609\" xlink:href=\"#DejaVuSans-112\"/>\n       <use x=\"115.576172\" xlink:href=\"#DejaVuSans-97\"/>\n       <use x=\"176.855469\" xlink:href=\"#DejaVuSans-109\"/>\n      </g>\n     </g>\n    </g>\n   </g>\n   <g id=\"matplotlib.axis_2\">\n    <g id=\"ytick_1\">\n     <g id=\"line2d_3\">\n      <defs>\n       <path d=\"M 0 0 \nL -3.5 0 \n\" id=\"m5ae31a3754\" style=\"stroke:#000000;stroke-width:0.8;\"/>\n      </defs>\n      <g>\n       <use style=\"stroke:#000000;stroke-width:0.8;\" x=\"39.65\" xlink:href=\"#m5ae31a3754\" y=\"239.758125\"/>\n      </g>\n     </g>\n     <g id=\"text_3\">\n      <!-- 0 -->\n      <g transform=\"translate(26.2875 243.557344)scale(0.1 -0.1)\">\n       <defs>\n        <path d=\"M 31.78125 66.40625 \nQ 24.171875 66.40625 20.328125 58.90625 \nQ 16.5 51.421875 16.5 36.375 \nQ 16.5 21.390625 20.328125 13.890625 \nQ 24.171875 6.390625 31.78125 6.390625 \nQ 39.453125 6.390625 43.28125 13.890625 \nQ 47.125 21.390625 47.125 36.375 \nQ 47.125 51.421875 43.28125 58.90625 \nQ 39.453125 66.40625 31.78125 66.40625 \nz\nM 31.78125 74.21875 \nQ 44.046875 74.21875 50.515625 64.515625 \nQ 56.984375 54.828125 56.984375 36.375 \nQ 56.984375 17.96875 50.515625 8.265625 \nQ 44.046875 -1.421875 31.78125 -1.421875 \nQ 19.53125 -1.421875 13.0625 8.265625 \nQ 6.59375 17.96875 6.59375 36.375 \nQ 6.59375 54.828125 13.0625 64.515625 \nQ 19.53125 74.21875 31.78125 74.21875 \nz\n\" id=\"DejaVuSans-48\"/>\n       </defs>\n       <use xlink:href=\"#DejaVuSans-48\"/>\n      </g>\n     </g>\n    </g>\n    <g id=\"ytick_2\">\n     <g id=\"line2d_4\">\n      <g>\n       <use style=\"stroke:#000000;stroke-width:0.8;\" x=\"39.65\" xlink:href=\"#m5ae31a3754\" y=\"196.838806\"/>\n      </g>\n     </g>\n     <g id=\"text_4\">\n      <!-- 1000 -->\n      <g transform=\"translate(7.2 200.638025)scale(0.1 -0.1)\">\n       <defs>\n        <path d=\"M 12.40625 8.296875 \nL 28.515625 8.296875 \nL 28.515625 63.921875 \nL 10.984375 60.40625 \nL 10.984375 69.390625 \nL 28.421875 72.90625 \nL 38.28125 72.90625 \nL 38.28125 8.296875 \nL 54.390625 8.296875 \nL 54.390625 0 \nL 12.40625 0 \nz\n\" id=\"DejaVuSans-49\"/>\n       </defs>\n       <use xlink:href=\"#DejaVuSans-49\"/>\n       <use x=\"63.623047\" xlink:href=\"#DejaVuSans-48\"/>\n       <use x=\"127.246094\" xlink:href=\"#DejaVuSans-48\"/>\n       <use x=\"190.869141\" xlink:href=\"#DejaVuSans-48\"/>\n      </g>\n     </g>\n    </g>\n    <g id=\"ytick_3\">\n     <g id=\"line2d_5\">\n      <g>\n       <use style=\"stroke:#000000;stroke-width:0.8;\" x=\"39.65\" xlink:href=\"#m5ae31a3754\" y=\"153.919487\"/>\n      </g>\n     </g>\n     <g id=\"text_5\">\n      <!-- 2000 -->\n      <g transform=\"translate(7.2 157.718706)scale(0.1 -0.1)\">\n       <defs>\n        <path d=\"M 19.1875 8.296875 \nL 53.609375 8.296875 \nL 53.609375 0 \nL 7.328125 0 \nL 7.328125 8.296875 \nQ 12.9375 14.109375 22.625 23.890625 \nQ 32.328125 33.6875 34.8125 36.53125 \nQ 39.546875 41.84375 41.421875 45.53125 \nQ 43.3125 49.21875 43.3125 52.78125 \nQ 43.3125 58.59375 39.234375 62.25 \nQ 35.15625 65.921875 28.609375 65.921875 \nQ 23.96875 65.921875 18.8125 64.3125 \nQ 13.671875 62.703125 7.8125 59.421875 \nL 7.8125 69.390625 \nQ 13.765625 71.78125 18.9375 73 \nQ 24.125 74.21875 28.421875 74.21875 \nQ 39.75 74.21875 46.484375 68.546875 \nQ 53.21875 62.890625 53.21875 53.421875 \nQ 53.21875 48.921875 51.53125 44.890625 \nQ 49.859375 40.875 45.40625 35.40625 \nQ 44.1875 33.984375 37.640625 27.21875 \nQ 31.109375 20.453125 19.1875 8.296875 \nz\n\" id=\"DejaVuSans-50\"/>\n       </defs>\n       <use xlink:href=\"#DejaVuSans-50\"/>\n       <use x=\"63.623047\" xlink:href=\"#DejaVuSans-48\"/>\n       <use x=\"127.246094\" xlink:href=\"#DejaVuSans-48\"/>\n       <use x=\"190.869141\" xlink:href=\"#DejaVuSans-48\"/>\n      </g>\n     </g>\n    </g>\n    <g id=\"ytick_4\">\n     <g id=\"line2d_6\">\n      <g>\n       <use style=\"stroke:#000000;stroke-width:0.8;\" x=\"39.65\" xlink:href=\"#m5ae31a3754\" y=\"111.000168\"/>\n      </g>\n     </g>\n     <g id=\"text_6\">\n      <!-- 3000 -->\n      <g transform=\"translate(7.2 114.799387)scale(0.1 -0.1)\">\n       <defs>\n        <path d=\"M 40.578125 39.3125 \nQ 47.65625 37.796875 51.625 33 \nQ 55.609375 28.21875 55.609375 21.1875 \nQ 55.609375 10.40625 48.1875 4.484375 \nQ 40.765625 -1.421875 27.09375 -1.421875 \nQ 22.515625 -1.421875 17.65625 -0.515625 \nQ 12.796875 0.390625 7.625 2.203125 \nL 7.625 11.71875 \nQ 11.71875 9.328125 16.59375 8.109375 \nQ 21.484375 6.890625 26.8125 6.890625 \nQ 36.078125 6.890625 40.9375 10.546875 \nQ 45.796875 14.203125 45.796875 21.1875 \nQ 45.796875 27.640625 41.28125 31.265625 \nQ 36.765625 34.90625 28.71875 34.90625 \nL 20.21875 34.90625 \nL 20.21875 43.015625 \nL 29.109375 43.015625 \nQ 36.375 43.015625 40.234375 45.921875 \nQ 44.09375 48.828125 44.09375 54.296875 \nQ 44.09375 59.90625 40.109375 62.90625 \nQ 36.140625 65.921875 28.71875 65.921875 \nQ 24.65625 65.921875 20.015625 65.03125 \nQ 15.375 64.15625 9.8125 62.3125 \nL 9.8125 71.09375 \nQ 15.4375 72.65625 20.34375 73.4375 \nQ 25.25 74.21875 29.59375 74.21875 \nQ 40.828125 74.21875 47.359375 69.109375 \nQ 53.90625 64.015625 53.90625 55.328125 \nQ 53.90625 49.265625 50.4375 45.09375 \nQ 46.96875 40.921875 40.578125 39.3125 \nz\n\" id=\"DejaVuSans-51\"/>\n       </defs>\n       <use xlink:href=\"#DejaVuSans-51\"/>\n       <use x=\"63.623047\" xlink:href=\"#DejaVuSans-48\"/>\n       <use x=\"127.246094\" xlink:href=\"#DejaVuSans-48\"/>\n       <use x=\"190.869141\" xlink:href=\"#DejaVuSans-48\"/>\n      </g>\n     </g>\n    </g>\n    <g id=\"ytick_5\">\n     <g id=\"line2d_7\">\n      <g>\n       <use style=\"stroke:#000000;stroke-width:0.8;\" x=\"39.65\" xlink:href=\"#m5ae31a3754\" y=\"68.080849\"/>\n      </g>\n     </g>\n     <g id=\"text_7\">\n      <!-- 4000 -->\n      <g transform=\"translate(7.2 71.880068)scale(0.1 -0.1)\">\n       <defs>\n        <path d=\"M 37.796875 64.3125 \nL 12.890625 25.390625 \nL 37.796875 25.390625 \nz\nM 35.203125 72.90625 \nL 47.609375 72.90625 \nL 47.609375 25.390625 \nL 58.015625 25.390625 \nL 58.015625 17.1875 \nL 47.609375 17.1875 \nL 47.609375 0 \nL 37.796875 0 \nL 37.796875 17.1875 \nL 4.890625 17.1875 \nL 4.890625 26.703125 \nz\n\" id=\"DejaVuSans-52\"/>\n       </defs>\n       <use xlink:href=\"#DejaVuSans-52\"/>\n       <use x=\"63.623047\" xlink:href=\"#DejaVuSans-48\"/>\n       <use x=\"127.246094\" xlink:href=\"#DejaVuSans-48\"/>\n       <use x=\"190.869141\" xlink:href=\"#DejaVuSans-48\"/>\n      </g>\n     </g>\n    </g>\n    <g id=\"ytick_6\">\n     <g id=\"line2d_8\">\n      <g>\n       <use style=\"stroke:#000000;stroke-width:0.8;\" x=\"39.65\" xlink:href=\"#m5ae31a3754\" y=\"25.16153\"/>\n      </g>\n     </g>\n     <g id=\"text_8\">\n      <!-- 5000 -->\n      <g transform=\"translate(7.2 28.960749)scale(0.1 -0.1)\">\n       <defs>\n        <path d=\"M 10.796875 72.90625 \nL 49.515625 72.90625 \nL 49.515625 64.59375 \nL 19.828125 64.59375 \nL 19.828125 46.734375 \nQ 21.96875 47.46875 24.109375 47.828125 \nQ 26.265625 48.1875 28.421875 48.1875 \nQ 40.625 48.1875 47.75 41.5 \nQ 54.890625 34.8125 54.890625 23.390625 \nQ 54.890625 11.625 47.5625 5.09375 \nQ 40.234375 -1.421875 26.90625 -1.421875 \nQ 22.3125 -1.421875 17.546875 -0.640625 \nQ 12.796875 0.140625 7.71875 1.703125 \nL 7.71875 11.625 \nQ 12.109375 9.234375 16.796875 8.0625 \nQ 21.484375 6.890625 26.703125 6.890625 \nQ 35.15625 6.890625 40.078125 11.328125 \nQ 45.015625 15.765625 45.015625 23.390625 \nQ 45.015625 31 40.078125 35.4375 \nQ 35.15625 39.890625 26.703125 39.890625 \nQ 22.75 39.890625 18.8125 39.015625 \nQ 14.890625 38.140625 10.796875 36.28125 \nz\n\" id=\"DejaVuSans-53\"/>\n       </defs>\n       <use xlink:href=\"#DejaVuSans-53\"/>\n       <use x=\"63.623047\" xlink:href=\"#DejaVuSans-48\"/>\n       <use x=\"127.246094\" xlink:href=\"#DejaVuSans-48\"/>\n       <use x=\"190.869141\" xlink:href=\"#DejaVuSans-48\"/>\n      </g>\n     </g>\n    </g>\n   </g>\n   <g id=\"patch_5\">\n    <path d=\"M 39.65 239.758125 \nL 39.65 22.318125 \n\" style=\"fill:none;stroke:#000000;stroke-linecap:square;stroke-linejoin:miter;stroke-width:0.8;\"/>\n   </g>\n   <g id=\"patch_6\">\n    <path d=\"M 374.45 239.758125 \nL 374.45 22.318125 \n\" style=\"fill:none;stroke:#000000;stroke-linecap:square;stroke-linejoin:miter;stroke-width:0.8;\"/>\n   </g>\n   <g id=\"patch_7\">\n    <path d=\"M 39.65 239.758125 \nL 374.45 239.758125 \n\" style=\"fill:none;stroke:#000000;stroke-linecap:square;stroke-linejoin:miter;stroke-width:0.8;\"/>\n   </g>\n   <g id=\"patch_8\">\n    <path d=\"M 39.65 22.318125 \nL 374.45 22.318125 \n\" style=\"fill:none;stroke:#000000;stroke-linecap:square;stroke-linejoin:miter;stroke-width:0.8;\"/>\n   </g>\n   <g id=\"text_9\">\n    <!-- Classes distribution -->\n    <g transform=\"translate(148.349375 16.318125)scale(0.12 -0.12)\">\n     <defs>\n      <path d=\"M 64.40625 67.28125 \nL 64.40625 56.890625 \nQ 59.421875 61.53125 53.78125 63.8125 \nQ 48.140625 66.109375 41.796875 66.109375 \nQ 29.296875 66.109375 22.65625 58.46875 \nQ 16.015625 50.828125 16.015625 36.375 \nQ 16.015625 21.96875 22.65625 14.328125 \nQ 29.296875 6.6875 41.796875 6.6875 \nQ 48.140625 6.6875 53.78125 8.984375 \nQ 59.421875 11.28125 64.40625 15.921875 \nL 64.40625 5.609375 \nQ 59.234375 2.09375 53.4375 0.328125 \nQ 47.65625 -1.421875 41.21875 -1.421875 \nQ 24.65625 -1.421875 15.125 8.703125 \nQ 5.609375 18.84375 5.609375 36.375 \nQ 5.609375 53.953125 15.125 64.078125 \nQ 24.65625 74.21875 41.21875 74.21875 \nQ 47.75 74.21875 53.53125 72.484375 \nQ 59.328125 70.75 64.40625 67.28125 \nz\n\" id=\"DejaVuSans-67\"/>\n      <path d=\"M 9.421875 75.984375 \nL 18.40625 75.984375 \nL 18.40625 0 \nL 9.421875 0 \nz\n\" id=\"DejaVuSans-108\"/>\n      <path d=\"M 56.203125 29.59375 \nL 56.203125 25.203125 \nL 14.890625 25.203125 \nQ 15.484375 15.921875 20.484375 11.0625 \nQ 25.484375 6.203125 34.421875 6.203125 \nQ 39.59375 6.203125 44.453125 7.46875 \nQ 49.3125 8.734375 54.109375 11.28125 \nL 54.109375 2.78125 \nQ 49.265625 0.734375 44.1875 -0.34375 \nQ 39.109375 -1.421875 33.890625 -1.421875 \nQ 20.796875 -1.421875 13.15625 6.1875 \nQ 5.515625 13.8125 5.515625 26.8125 \nQ 5.515625 40.234375 12.765625 48.109375 \nQ 20.015625 56 32.328125 56 \nQ 43.359375 56 49.78125 48.890625 \nQ 56.203125 41.796875 56.203125 29.59375 \nz\nM 47.21875 32.234375 \nQ 47.125 39.59375 43.09375 43.984375 \nQ 39.0625 48.390625 32.421875 48.390625 \nQ 24.90625 48.390625 20.390625 44.140625 \nQ 15.875 39.890625 15.1875 32.171875 \nz\n\" id=\"DejaVuSans-101\"/>\n      <path id=\"DejaVuSans-32\"/>\n      <path d=\"M 45.40625 46.390625 \nL 45.40625 75.984375 \nL 54.390625 75.984375 \nL 54.390625 0 \nL 45.40625 0 \nL 45.40625 8.203125 \nQ 42.578125 3.328125 38.25 0.953125 \nQ 33.9375 -1.421875 27.875 -1.421875 \nQ 17.96875 -1.421875 11.734375 6.484375 \nQ 5.515625 14.40625 5.515625 27.296875 \nQ 5.515625 40.1875 11.734375 48.09375 \nQ 17.96875 56 27.875 56 \nQ 33.9375 56 38.25 53.625 \nQ 42.578125 51.265625 45.40625 46.390625 \nz\nM 14.796875 27.296875 \nQ 14.796875 17.390625 18.875 11.75 \nQ 22.953125 6.109375 30.078125 6.109375 \nQ 37.203125 6.109375 41.296875 11.75 \nQ 45.40625 17.390625 45.40625 27.296875 \nQ 45.40625 37.203125 41.296875 42.84375 \nQ 37.203125 48.484375 30.078125 48.484375 \nQ 22.953125 48.484375 18.875 42.84375 \nQ 14.796875 37.203125 14.796875 27.296875 \nz\n\" id=\"DejaVuSans-100\"/>\n      <path d=\"M 9.421875 54.6875 \nL 18.40625 54.6875 \nL 18.40625 0 \nL 9.421875 0 \nz\nM 9.421875 75.984375 \nL 18.40625 75.984375 \nL 18.40625 64.59375 \nL 9.421875 64.59375 \nz\n\" id=\"DejaVuSans-105\"/>\n      <path d=\"M 18.3125 70.21875 \nL 18.3125 54.6875 \nL 36.8125 54.6875 \nL 36.8125 47.703125 \nL 18.3125 47.703125 \nL 18.3125 18.015625 \nQ 18.3125 11.328125 20.140625 9.421875 \nQ 21.96875 7.515625 27.59375 7.515625 \nL 36.8125 7.515625 \nL 36.8125 0 \nL 27.59375 0 \nQ 17.1875 0 13.234375 3.875 \nQ 9.28125 7.765625 9.28125 18.015625 \nL 9.28125 47.703125 \nL 2.6875 47.703125 \nL 2.6875 54.6875 \nL 9.28125 54.6875 \nL 9.28125 70.21875 \nz\n\" id=\"DejaVuSans-116\"/>\n      <path d=\"M 41.109375 46.296875 \nQ 39.59375 47.171875 37.8125 47.578125 \nQ 36.03125 48 33.890625 48 \nQ 26.265625 48 22.1875 43.046875 \nQ 18.109375 38.09375 18.109375 28.8125 \nL 18.109375 0 \nL 9.078125 0 \nL 9.078125 54.6875 \nL 18.109375 54.6875 \nL 18.109375 46.1875 \nQ 20.953125 51.171875 25.484375 53.578125 \nQ 30.03125 56 36.53125 56 \nQ 37.453125 56 38.578125 55.875 \nQ 39.703125 55.765625 41.0625 55.515625 \nz\n\" id=\"DejaVuSans-114\"/>\n      <path d=\"M 48.6875 27.296875 \nQ 48.6875 37.203125 44.609375 42.84375 \nQ 40.53125 48.484375 33.40625 48.484375 \nQ 26.265625 48.484375 22.1875 42.84375 \nQ 18.109375 37.203125 18.109375 27.296875 \nQ 18.109375 17.390625 22.1875 11.75 \nQ 26.265625 6.109375 33.40625 6.109375 \nQ 40.53125 6.109375 44.609375 11.75 \nQ 48.6875 17.390625 48.6875 27.296875 \nz\nM 18.109375 46.390625 \nQ 20.953125 51.265625 25.265625 53.625 \nQ 29.59375 56 35.59375 56 \nQ 45.5625 56 51.78125 48.09375 \nQ 58.015625 40.1875 58.015625 27.296875 \nQ 58.015625 14.40625 51.78125 6.484375 \nQ 45.5625 -1.421875 35.59375 -1.421875 \nQ 29.59375 -1.421875 25.265625 0.953125 \nQ 20.953125 3.328125 18.109375 8.203125 \nL 18.109375 0 \nL 9.078125 0 \nL 9.078125 75.984375 \nL 18.109375 75.984375 \nz\n\" id=\"DejaVuSans-98\"/>\n      <path d=\"M 8.5 21.578125 \nL 8.5 54.6875 \nL 17.484375 54.6875 \nL 17.484375 21.921875 \nQ 17.484375 14.15625 20.5 10.265625 \nQ 23.53125 6.390625 29.59375 6.390625 \nQ 36.859375 6.390625 41.078125 11.03125 \nQ 45.3125 15.671875 45.3125 23.6875 \nL 45.3125 54.6875 \nL 54.296875 54.6875 \nL 54.296875 0 \nL 45.3125 0 \nL 45.3125 8.40625 \nQ 42.046875 3.421875 37.71875 1 \nQ 33.40625 -1.421875 27.6875 -1.421875 \nQ 18.265625 -1.421875 13.375 4.4375 \nQ 8.5 10.296875 8.5 21.578125 \nz\nM 31.109375 56 \nz\n\" id=\"DejaVuSans-117\"/>\n      <path d=\"M 30.609375 48.390625 \nQ 23.390625 48.390625 19.1875 42.75 \nQ 14.984375 37.109375 14.984375 27.296875 \nQ 14.984375 17.484375 19.15625 11.84375 \nQ 23.34375 6.203125 30.609375 6.203125 \nQ 37.796875 6.203125 41.984375 11.859375 \nQ 46.1875 17.53125 46.1875 27.296875 \nQ 46.1875 37.015625 41.984375 42.703125 \nQ 37.796875 48.390625 30.609375 48.390625 \nz\nM 30.609375 56 \nQ 42.328125 56 49.015625 48.375 \nQ 55.71875 40.765625 55.71875 27.296875 \nQ 55.71875 13.875 49.015625 6.21875 \nQ 42.328125 -1.421875 30.609375 -1.421875 \nQ 18.84375 -1.421875 12.171875 6.21875 \nQ 5.515625 13.875 5.515625 27.296875 \nQ 5.515625 40.765625 12.171875 48.375 \nQ 18.84375 56 30.609375 56 \nz\n\" id=\"DejaVuSans-111\"/>\n      <path d=\"M 54.890625 33.015625 \nL 54.890625 0 \nL 45.90625 0 \nL 45.90625 32.71875 \nQ 45.90625 40.484375 42.875 44.328125 \nQ 39.84375 48.1875 33.796875 48.1875 \nQ 26.515625 48.1875 22.3125 43.546875 \nQ 18.109375 38.921875 18.109375 30.90625 \nL 18.109375 0 \nL 9.078125 0 \nL 9.078125 54.6875 \nL 18.109375 54.6875 \nL 18.109375 46.1875 \nQ 21.34375 51.125 25.703125 53.5625 \nQ 30.078125 56 35.796875 56 \nQ 45.21875 56 50.046875 50.171875 \nQ 54.890625 44.34375 54.890625 33.015625 \nz\n\" id=\"DejaVuSans-110\"/>\n     </defs>\n     <use xlink:href=\"#DejaVuSans-67\"/>\n     <use x=\"69.824219\" xlink:href=\"#DejaVuSans-108\"/>\n     <use x=\"97.607422\" xlink:href=\"#DejaVuSans-97\"/>\n     <use x=\"158.886719\" xlink:href=\"#DejaVuSans-115\"/>\n     <use x=\"210.986328\" xlink:href=\"#DejaVuSans-115\"/>\n     <use x=\"263.085938\" xlink:href=\"#DejaVuSans-101\"/>\n     <use x=\"324.609375\" xlink:href=\"#DejaVuSans-115\"/>\n     <use x=\"376.708984\" xlink:href=\"#DejaVuSans-32\"/>\n     <use x=\"408.496094\" xlink:href=\"#DejaVuSans-100\"/>\n     <use x=\"471.972656\" xlink:href=\"#DejaVuSans-105\"/>\n     <use x=\"499.755859\" xlink:href=\"#DejaVuSans-115\"/>\n     <use x=\"551.855469\" xlink:href=\"#DejaVuSans-116\"/>\n     <use x=\"591.064453\" xlink:href=\"#DejaVuSans-114\"/>\n     <use x=\"632.177734\" xlink:href=\"#DejaVuSans-105\"/>\n     <use x=\"659.960938\" xlink:href=\"#DejaVuSans-98\"/>\n     <use x=\"723.4375\" xlink:href=\"#DejaVuSans-117\"/>\n     <use x=\"786.816406\" xlink:href=\"#DejaVuSans-116\"/>\n     <use x=\"826.025391\" xlink:href=\"#DejaVuSans-105\"/>\n     <use x=\"853.808594\" xlink:href=\"#DejaVuSans-111\"/>\n     <use x=\"914.990234\" xlink:href=\"#DejaVuSans-110\"/>\n    </g>\n   </g>\n  </g>\n </g>\n <defs>\n  <clipPath id=\"p2d5b411b09\">\n   <rect height=\"217.44\" width=\"334.8\" x=\"39.65\" y=\"22.318125\"/>\n  </clipPath>\n </defs>\n</svg>\n",
      "image/png": "[encoded data removed]"
     },
     "metadata": {
      "needs_background": "light"
     }
    }
   ],
   "source": [
    "# check class distribution\n",
    "classes = df[0]\n",
    "print(classes.value_counts())\n",
    "classes.value_counts().plot(kind='bar').set_title('Classes distribution')"
   ]
  },
  {
   "source": [
    "### 2. Preprocess the Data\n",
    "Preprocessing the data is an essential step in natural language process. In the following cells, we will convert our class labels to binary values using the LabelEncoder from sklearn, replace email addresses, URLs, phone numbers, and other symbols by using regular expressions, remove stop words, and extract word stems."
   ],
   "cell_type": "markdown",
   "metadata": {}
  },
  {
   "cell_type": "code",
   "execution_count": 8,
   "metadata": {},
   "outputs": [
    {
     "output_type": "execute_result",
     "data": {
      "text/plain": [
       "array([0, 1])"
      ]
     },
     "metadata": {},
     "execution_count": 8
    }
   ],
   "source": [
    "from sklearn.preprocessing import LabelEncoder\n",
    "\n",
    "# convert class labels to binary values, 0 = ham and 1 = spam\n",
    "encoder = LabelEncoder()\n",
    "Y = encoder.fit_transform(classes)\n",
    "np.unique(Y)"
   ]
  },
  {
   "cell_type": "code",
   "execution_count": 9,
   "metadata": {},
   "outputs": [
    {
     "output_type": "stream",
     "name": "stdout",
     "text": [
      "0    Go until jurong point, crazy.. Available only ...\n1                        Ok lar... Joking wif u oni...\n2    Free entry in 2 a wkly comp to win FA Cup fina...\n3    U dun say so early hor... U c already then say...\n4    Nah I don't think he goes to usf, he lives aro...\n5    FreeMsg Hey there darling it's been 3 week's n...\n6    Even my brother is not like to speak with me. ...\n7    As per your request 'Melle Melle (Oru Minnamin...\n8    WINNER!! As a valued network customer you have...\n9    Had your mobile 11 months or more? U R entitle...\nName: 1, dtype: object\n"
     ]
    }
   ],
   "source": [
    "# store the text message data\n",
    "text_messages = df[1]\n",
    "print(text_messages[:10])"
   ]
  },
  {
   "cell_type": "code",
   "execution_count": 12,
   "metadata": {},
   "outputs": [
    {
     "output_type": "stream",
     "name": "stdout",
     "text": [
      "0    go until jurong point, crazy.. available only ...\n1                        ok lar... joking wif u oni...\n2    free entry in 2 a wkly comp to win fa cup fina...\n3    u dun say so early hor... u c already then say...\n4    nah i don't think he goes to usf, he lives aro...\n5    freemsg hey there darling it's been 3 week's n...\n6    even my brother is not like to speak with me. ...\n7    as per your request 'melle melle (oru minnamin...\n8    winner!! as a valued network customer you have...\n9    had your mobile 11 months or more? u r entitle...\nName: 1, dtype: object\n"
     ]
    }
   ],
   "source": [
    "# change words to lower case - Hello, HELLO, hello are all the same word\n",
    "processed = text_messages.str.lower()\n",
    "print(processed[0:10])"
   ]
  },
  {
   "source": [
    "### 3. Generating Features\n",
    "Feature engineering is the process of using domain knowledge of the data to create features for machine learning algorithms. In this project, the words in each text message will be our features. For this purpose, it will be necessary to tokenize each word. We will use the 1500 most common words as features."
   ],
   "cell_type": "markdown",
   "metadata": {}
  },
  {
   "cell_type": "code",
   "execution_count": 15,
   "metadata": {},
   "outputs": [
    {
     "output_type": "stream",
     "name": "stderr",
     "text": [
      "[nltk_data] Downloading package punkt to /Users/youssef/nltk_data...\n",
      "[nltk_data]   Unzipping tokenizers/punkt.zip.\n"
     ]
    }
   ],
   "source": [
    "nltk.download('punkt')\n",
    "from nltk.tokenize import word_tokenize\n",
    "# create bag-of-words\n",
    "all_words = []\n",
    "\n",
    "for message in processed:\n",
    "    words = word_tokenize(message)\n",
    "    for w in words:\n",
    "        all_words.append(w)\n",
    "        \n",
    "all_words = nltk.FreqDist(all_words)"
   ]
  },
  {
   "cell_type": "code",
   "execution_count": 16,
   "metadata": {},
   "outputs": [
    {
     "output_type": "stream",
     "name": "stdout",
     "text": [
      "Number of words: 9440\nMost common words: [('.', 4738), ('i', 2929), ('to', 2252), ('you', 2236), (',', 1938), ('?', 1550), ('a', 1441), ('!', 1397), ('the', 1337), ('...', 1146), ('u', 1136), ('and', 978), ('&', 922), ('is', 905), ('in', 891)]\n"
     ]
    }
   ],
   "source": [
    "# print the total number of words and the 15 most common words\n",
    "print('Number of words: {}'.format(len(all_words)))\n",
    "print('Most common words: {}'.format(all_words.most_common(15)))"
   ]
  },
  {
   "cell_type": "code",
   "execution_count": 17,
   "metadata": {},
   "outputs": [],
   "source": [
    "# use the 1500 most common words as features\n",
    "word_features = list(all_words.keys())[:1500]"
   ]
  },
  {
   "cell_type": "code",
   "execution_count": 19,
   "metadata": {},
   "outputs": [
    {
     "output_type": "stream",
     "name": "stdout",
     "text": [
      "go\nuntil\njurong\npoint\n,\ncrazy\n..\navailable\nonly\nin\nbugis\nn\ngreat\nworld\nla\ne\nbuffet\n...\ncine\nthere\ngot\namore\nwat\n"
     ]
    }
   ],
   "source": [
    "def find_features(message):\n",
    "    words = word_tokenize(message)\n",
    "    features = {}\n",
    "    for word in word_features:\n",
    "        features[word] = (word in words)\n",
    "\n",
    "    return features\n",
    "\n",
    "# Lets see an example!\n",
    "features = find_features(processed[0])\n",
    "for key, value in features.items():\n",
    "    if value == True:\n",
    "        print(key)"
   ]
  },
  {
   "cell_type": "code",
   "execution_count": 31,
   "metadata": {},
   "outputs": [
    {
     "output_type": "execute_result",
     "data": {
      "text/plain": [
       "(pandas.core.series.Series, numpy.ndarray)"
      ]
     },
     "metadata": {},
     "execution_count": 31
    }
   ],
   "source": [
    "type(processed), type(Y)"
   ]
  },
  {
   "cell_type": "code",
   "execution_count": 44,
   "metadata": {
    "tags": [
     "outputPrepend"
    ]
   },
   "outputs": [
    {
     "output_type": "stream",
     "name": "stdout",
     "text": [
      "'4txt/ú1.20': False, 'poboxox36504w45wq': False, 'that': False, 'seriously': False, '‘': False, 'm': False, 'going': False, 'ha': False, 'ü': False, 'pay': False, 'first': False, 'when': False, 'da': False, 'stock': False, 'comin': False, 'aft': False, 'finish': False, 'lunch': False, 'str': False, 'down': False, 'lor': False, 'ard': False, 'smth': False, 'ffffffffff': False, 'alright': False, 'can': False, 'meet': False, 'sooner': False, 'just': False, 'forced': False, 'myself': False, 'eat': False, 'slice': False, 'really': False, 'hungry': False, 'tho': False, 'sucks': False, 'mark': False, 'getting': False, 'worried': False, 'knows': False, 'sick': False, 'turn': False, 'pizza': False, 'lol': False, 'always': False, 'convincing': False, 'catch': False, 'bus': False, 'are': False, 'frying': False, 'an': False, 'egg': False, 'tea': False, 'eating': False, 'mom': False, 'left': False, 'over': False, 'dinner': False, 'love': False, 'amp': False, ';': False, 'we': False, \"'re\": False, 'packing': False, 'car': False, \"'ll\": False, 'let': False, 'know': False, 'room': False, 'ahhh': False, 'work': False, 'vaguely': False, 'what': False, 'does': False, 'wait': False, 'clear': False, 'were': False, 'sure': False, 'being': False, 'sarcastic': False, 'why': False, 'x': False, 'live': False, 'us': False, 'yeah': False, 'was': False, 'apologetic': False, 'fallen': False, 'out': False, 'she': False, 'actin': False, 'spoilt': False, 'child': False, 'caught': False, 'till': False, 'but': False, 'wo': False, 'doing': False, 'too': False, 'badly': False, 'cheers': False, 'tell': False, 'anything': False, 'fear': False, 'of': False, 'fainting': False, 'housework': False, 'quick': False, 'cuppa': False, 'thanks': False, 'subscription': False, 'ringtone': False, 'uk': False, 'charged': False, '£5/month': False, 'please': False, 'confirm': False, 'by': False, 'replying': False, 'yup': False, 'look': False, 'timings': False, 'msg': False, 'again': False, 'xuhui': False, 'learn': False, '2nd': False, 'her': False, 'lesson': False, '8am': False, 'oops': False, 'roommate': False, 'done': False, 'see': False, 'letter': False, 'decide': False, 'hello': False, 'saturday': False, 'texting': False, 'decided': False, 'tomo': False, 'trying': False, 'invite': False, 'pls': False, 'ahead': False, 'watts': False, 'wanted': False, 'weekend': False, 'abiola': False, 'forget': False, 'need': False, 'crave': False, 'most': False, 'sweet': False, 'arabian': False, 'steed': False, 'mmmmmm': False, 'yummy': False, '07732584351': False, 'rodger': False, 'burns': False, '=': False, 'tried': False, 're': False, 'sms': False, 'nokia': False, '+': False, 'camcorder': False, '08000930705': False, 'delivery': False, 'tomorrow': False, 'who': False, 'seeing': False, 'hope': False, 'man': False, 'well': False, 'endowed': False, 'am': False, 'lt': False, '#': False, 'gt': False, 'inches': False, 'calls': False, 'messages': False, 'missed': False, 'get': False, 'hep': False, 'immunisation': False, 'nigeria': False, 'fair': False, 'hopefully': False, 'tyler': False, 'ca': False, 'could': False, 'maybe': False, 'ask': False, 'bit': False, 'stubborn': False, 'hospital': False, 'kept': False, 'telling': False, 'weak': False, 'sucker': False, 'hospitals': False, 'suckers': False, 'thinked': False, 'time': False, 'saw': False, 'class': False, 'gram': False, 'usually': False, 'runs': False, 'half': False, 'eighth': False, 'smarter': False, 'gets': False, 'almost': False, 'whole': False, 'second': False, 'fyi': False, 'ride': False, 'morning': False, 'crashing': False, 'place': False, 'wow': False, 'never': False, 'realized': False, 'embarassed': False, 'accomodations': False, 'thought': False, 'liked': False, 'since': False, 'best': False, 'seemed': False, 'happy': False, '``': False, 'cave': False, \"''\": False, 'sorry': False, 'give': False, 'offered': False, 'embarassing': False, 'ac': False, 'sptv': False, 'new': False, 'jersey': False, 'devils': False, 'detroit': False, 'red': False, 'wings': False, 'play': False, 'ice': False, 'hockey': False, 'correct': False, 'incorrect': False, 'end': False, 'mallika': False, 'sherawat': False, 'yesterday': False, 'find': False, '@': False, 'url': False, 'congrats': False, 'year': False, 'special': False, 'cinema': False, 'pass': False, 'yours': False, '09061209465': False, 'suprman': False, 'matrix3': False, 'starwars3': False, 'etc': False, 'bx420-ip4-5we': False, '150pm': False, 'later': False, 'meeting': False, 'where': False, 'reached': False, 'gauti': False, 'sehwag': False, 'odi': False, 'series': False, 'pick': False, '$': False, 'burger': False, 'yourself': False, 'move': False, 'pain': False, 'killing': False, 'good': False, 'joke': False, 'girls': False, 'situation': False, 'seekers': False, 'part': False, 'checking': False, 'iq': False, 'roommates': False, 'took': False, 'forever': False, 'come': False, 'double': False, 'check': False, 'hair': False, 'dresser': False, 'said': False, 'wun': False, 'cut': False, 'short': False, 'nice': False, 'pleased': False, 'advise': False, 'following': False, 'recent': False, 'review': False, 'mob': False, 'awarded': False, '£1500': False, 'bonus': False, '09066364589': False, 'song': False, 'dedicated': False, 'day': False, 'which': False, 'dedicate': False, 'valuable': False, 'frnds': False, 'rply': False, 'complimentary': False, 'trip': False, 'eurodisinc': False, 'trav': False, 'aco': False, 'entry41': False, '£1000': False, 'dis': False, '18+6': False, 'morefrmmob': False, 'shracomorsglsuplt': False, '10': False, 'ls1': False, '3aj': False, 'hear': False, 'divorce': False, 'barbie': False, 'comes': False, 'ken': False, 'plane': False, 'month': False, 'wah': False, 'lucky': False, 'save': False, 'money': False, 'hee': False, 'finished': False, 'hi': False, 'babe': False, 'im': False, 'wan': False, 'something': False, 'xx': False, 'performed': False, 'waiting': False, 'machan': False, 'once': False, 'thats': False, 'cool': False, 'gentleman': False, 'dignity': False, 'respect': False, 'peoples': False, 'very': False, 'much': False, 'shy': False, 'pa': False, 'operate': False, 'after': False, 'same': False, 'looking': False, 'job': False, 'ta': False, 'earn': False, 'k.': False, 'ah': False, 'stop': False, 'urgnt': False, 'real': False, 'yo': False, 'tickets': False, 'one': False, 'jacket': False, 'used': False, 'multis': False, 'started': False, 'requests': False, 'came': False, 'bed': False, 'coins': False, 'factory': False, 'nitros': False, 'ela': False, 'kano.': False, 'il': False, 'download': False, 'wen': False, 'don': False, 'stand': False, 'close': False, 'tho-': False, 'll': False, 'another': False, 'night': False, 'spent': False, 'late': False, 'afternoon': False, 'casualty': False, 'means': False, 'any': False, 'y': False, 'stuff42moro': False, 'includes': False, 'sheets': False, 'smile': False, 'pleasure': False, 'trouble': False, 'pours': False, 'rain': False, 'sum1': False, 'hurts': False, 'becoz': False, 'someone': False, 'loves': False, 'smiling': False, 'service': False, 'representative': False, '0800': False, '169': False, '6031': False, 'between': False, '10am-9pm': False, 'guaranteed': False, '£5000': False, 'havent': False, 'planning': False, 'buy': False, 'lido': False, '530': False, 'show': False, 'collected': False, 'simply': False, 'password': False, 'mix': False, '85069': False, 'verify': False, 'usher': False, 'britney': False, 'fml': False, 'po': False, 'box': False, '5249': False, 'mk17': False, '92h': False, '450ppw': False, '16': False, 'telugu': False, 'movie': False, 'abt': False, 'loads': False, 'loans': False, 'wk': False, 'hols': False, 'run': False, 'forgot': False, 'hairdressers': False, 'appointment': False, 'four': False, 'shower': False, 'beforehand': False, 'cause': False, 'prob': False, 'coffee': False, 'animation': False, 'nothing': False, 'else': False, 'okay': False, 'price': False, 'long': False, 'legal': False, 'them': False, 'ave': False, 'ams': False, 'gone': False, '4the': False, 'driving': False, 'test': False, 'yet': False, 'mean': False, 'guess': True, 'gave': False, 'boston': False, 'men': False, 'changed': False, 'search': False, 'location': False, 'nyc': False, 'cuz': False, 'signin': False, 'page': False, 'says': False, 'umma': False, 'life': False, 'vava': False, 'lot': False, 'dear': False, 'wishes': False, 'birthday': False, 'making': False, 'truly': False, 'memorable': False, 'aight': False, 'hit': False, 'would': False, 'ip': False, 'address': False, 'considering': False, 'computer': False, 'minecraft': False, 'server': False, 'grumpy': False, 'old': False, 'people': False, 'better': False, 'lying': False, 'jokes': False, 'worry': False, 'busy': False, 'plural': False, 'noun': False, 'research': False, 'dinner.msg': False, 'cos': False, 'things': False, 'scared': False, 'mah': False, 'loud': False, 'gent': False, 'contact': False, 'last': False, 'weekends': False, 'draw': False, 'shows': False, '09064012160.': False, 'k52': False, '12hrs': False, '150ppm': False, 'wa': False, 'openin': False, 'sentence': False, 'formal': False, 'anyway': False, 'juz': False, 'tt': False, 'eatin': False, 'puttin': False, 'weight': False, 'haha': False, 'anythin': False, 'happened': False, 'entered': False, 'cabin': False, \"b'day\": False, 'boss': False, 'felt': False, 'askd': False, 'invited': False, 'apartment': False, 'went': False, 'specially': False, 'holiday': False, 'flights': False, 'inc': False, 'operator': False, '0871277810910p/min': False, '18+': False, 'goodo': False, 'must': False, 'friday': False, 'egg-potato': False, 'ratio': False, 'tortilla': False, 'needed': False, 'hmm': False, 'uncle': False, 'informed': False, 'paying': False, 'school': False, 'directly': False, 'food': False, 'private': False, '2004': False, 'account': False, 'statement': False, '07742676969': False, '786': False, 'unredeemed': False, 'points': False, '08719180248': False, 'identifier': False, '45239': False, 'expires': False, '£2000': False, 'caller': False, '5/9/03': False, 'landline': False, '09064019788': False, 'box42wr29c': False, '-apples': False, 'pairs': False, 'malarky': False, 'todays': False, 'voda': False, 'numbers': False, 'ending': False, '7548': False, '350': False, 'award': False, 'match': False, '08712300220': False, 'quoting': False, '4041': False, 'standard': False, 'rates': False, 'app': False, 'sao': False, 'mu': False, 'predict': False, 'buying': False, 'yetunde': False, 'sent': False, 'bother': False, 'sending': False, 'involve': False, 'should': False, 'imposed': False, 'apologise': False, 'girl': False, 'del': False, 'bak': False, 'sum': False, 'lucyxx': False, 'tmorrow.pls': False, 'accomodate': False, 'answer': False, 'sunshine': False, 'quiz': False, 'q': False, 'top': False, 'sony': False, 'dvd': False, 'player': False, 'country': False, 'algarve': False, 'ansr': False, '82277': False, 'sp': False, 'tyrone': False, 'laid': False, 'dogging': False, 'locations': False, 'direct': False, 'join': False, 'largest': False, 'bt': False, 'txting': False, 'gravel': False, '69888': False, 'nt': False, 'ec2a': False, '31p.msg': False, '150p': False, 'haf': False, 'msn': False, 'yijue': False, 'hotmail.com': False, 'him': False, 'rooms': False, 'befor': False, 'activities': False, 'msgs': False, 'chat': False, 'svc': False, 'hardcore': False, 'services': False, '69988': False, 'age': False, 'yr': False, 'lazy': False, 'type': False, 'lect': False, 'pouch': False, 'sir': False, 'mail': False, 'swt': False, 'nver': False, 'tired': False, 'little': False, 'lovable': False, 'persons': False, 'coz': False, 'somtimes': False, 'those': False, 'occupy': False, 'd': False, 'biggest': False, 'their': False, 'hearts': False, 'gud': False, 'ni8': False, 'open': False, 'ya': False, 'dot': False, 'whats': False, 'staff': False, 'taking': False, 'replied': False, 'randy': False, 'sexy': False, 'female': False, 'local': False, 'luv': False, 'u.': False, 'netcollex': False, 'ltd': False, '08700621170150p': False, 'ummma.will': False, 'in.our': False, 'begin': False, 'qatar': False, 'pray': False, 'hard': False, 'deleted': False, 'sindu': False, 'birla': False, 'soft': False, 'wine': False, 'flowing': False, 'nevering': False, 'thk': False, 'plaza': False, 'typical': False, 'everywhere': False, 'dirt': False, 'floor': False, 'windows': False, 'shirt': False, 'sometimes': False, 'mouth': False, 'dream': False, 'without': False, 'chores': False, 'joy': False, 'lots': False, 'tv': False, 'i.ll': False, 'exist': False, 'hail': False, 'mist': False, 'become': False, 'aaooooright': False, 'leaving': False, 'house': False, 'interview': False, 'boy': False, 'missing': False, 'annoncement': False, 'years': False, '07046744435': False, 'arrange': False, '0871277810810': False, 'keep': False, 'safe': False, 'because': False, 'envy': False, 'everyone': False, 'parents': False, 'hand': False, 'excited': False, 'each': False, 'spend': False, '-pls': False, 'bootydelious': False, '32/f': False, 'inviting': False, 'friend': False, 'yes-434': False, 'no-434': False, 'www.sms.ac/u/bootydelious': False, 'frnd': False, '62468': False, 'bangbabes': False, 'order': False, 'content': False, 'goto': False, 'bangb': False, 'internet/service': False, 'menu': False, 'cultures': False, 'module': False, '09061701939.': False, 's89': False, 'avoid': False, 'missunderstding': False, 'wit': False, 'beloved': False, 'escape': False, 'fancy': False, 'bridge': False, 'needs': False, 'lager': False, 'completely': False, 'form': False, 'clark': False, 'also': False, 'utter': False, 'waste': False, 'axis': False, 'bank': False, 'hmmm': False, 'hop': False, 'muz': False, 'discuss': False, 'liao': False, 'coming': False, 'bloody': False, 'hell': False, 'cant': False, 'believe': False, 'surname': False, 'mr': False, 'ill': False, 'clue': False, 'spanish': False, 'begins': False, 'bath': False, 'carlos': False, 'mall': False, 'turns': False, 'staying': False, 'til': False, '~': False, 'smoke': False, 'worth': False, 'doesnt': False, 'log': False, 'spoke': False, 'maneesha': False, 'v.': False, 'satisfied': False, 'experience': False, 'toll': False, 'lifted': False, 'hopes': False, 'offer': False, 'especially': False, 'approaches': False, 'studying': False, 'anyways': False, 'gr8': False, 'trust': False, 'ok.': False, 'guys': False, 'great.bye': False, 'handsome': False, 'finding': False, 'working': False, 'towards': False, 'net': False, 'mummy': False, 'boytoy': False, 'awesome': False, 'minute': False, 'freephone': False, '0808': False, '145': False, '4742': False, '9am-11pm': False, 'xmas': False, 'radio': False, 'jus': False, 'bathe': False, 'sis': False, 'using': False, 'finishes': False, 'unique': False, '30th': False, 'august': False, 'www.areyouunique.co.uk': False, 'joined': False, 'league': False, 'touch': False, 'deal': False, 'personal': False, 'week.|': False, 'finally': False, 'completed': False, 'course': False, 'itself': False, 'however': False, 'suggest': False, 'stays': False, 'able': False, 'ors': False, 'every': False, 'stool': False, 'settled': False, 'wishin': False, 'mrng': False, 'hav': False, 'story': False, 'hamster': False, 'dead': False, 'tmr': False, '1pm': False, 'orchard': False, 'mrt': False, 'kate': False, 'evening': False, 'babyjontet': False, 'found': False, 'enc': False, 'bucks': False, 'darlin': False, 'ive': False, 'college': False, 'refilled': False, 'successfully': False, 'inr': False, 'decimal': False, 'keralacircle': False, 'prepaid': False, 'balance': False, 'rs': False, 'transaction': False, 'id': False, 'kr': False, 'goodmorning': False, 'sleeping': False, 'ga': False, 'alter': False, 'dat': False, 'ericsson': False, 'oso': False, 'oredi': False, 'dats': False, 'straight': False, 'dogg': False, 'connection': False, 'before': False, 'refund': False, 'bill': False, 'both': True, 'shoot': False, 'big': False, 'ready': False, 'bruv': False, 'break': False, 'rewarding': False, 'semester': False, 'study': False, 'noe': False, 'leh': False, 'sounds': False, 'heading': False, 'prediction': False, 'slept': False, 'past': False, 'few': False, 'nights': False, 'easy': False, 'sen': False, 'exam': False, 'march': False, 'atm': False, 'register': False, 'os': False, 'called': False, 'ubandu': False, 'installing': False, 'disk': False, 'important': False, 'files': False, 'system': False, 'repair': False, 'shop': False, 'happen': False, 'romantic': False, 'nite': False, 'scenery': False, '500': False, '89545': False, 'collect': False, '£1': False, 'www.4-tc.biz': False, '2optout': False, '087187262701.50gbp/mtmsg18': False, 'appreciate': False, 'partner': False, 'career': False, 'off': False, 'flyng': False, 'start': False, 'horo': False, 'followed': False, 'star': False, 'sign': False, 'e.': False, 'g.': False, 'aries': False, 'company': False, 'elama': False, 'mudyadhu': False, 'strict': False, 'than': False, 'teacher': False, 'bcoz': False, 'teaches': False, 'conducts': False, 'lessons': False, 'gandhipuram': False, 'walk': False, 'cross': False, 'road': False, 'side': False, 'street': False, 'rubber': False, 'battery': False, 'died': False, 'flirt': False, '10p': False, 'sam': False, '25': False, '18': False, '-msg': False, 'recd': False, 'thirtyeight': False, 'pence': False, 'printed': False, 'upstairs': False, 'closer': False, 'wil': False, 'reach': False, 'theory': False, 'argument': False, 'wins': False, 'loses': False, 'person': False, 'argue': False, 'kick': False, '447801259231': False, 'secret': False, 'admirer': False, 'u-find': False, 'reveal': False, 'thinks': False, 'special-call': False, '09058094597': False, 'tomarrow': False, 'hearing': False, 'laptop': False, 'case': False, 'pleassssssseeeeee': False, 'tel': False, 'avent': False, 'sportsx': False, 'shining': False, 'meant': False, 'signing': False, 'although': False, 'told': False, 'into': False, 'baig': False, 'face': False, 'watches': False, 'watch': False, 'fr': False, 'thanx': False, 'everything': False, 'touched': False, 'commercial': False, 'website': False, 'slippers': False, 'asked': False, 'kallis': False, 'bat': False, 'innings': False, 'didnt': False, 'goodnight': False, 'fix': False, 'wake': False, 'dearly': False, 'sleep': False, 'congratulations': False, 'cd': False, 'vouchers': False, '125gift': False, 'music': False, '87066': False, 'tncs': False, 'www.ldew.com1win150ppmx3age16': False, 'ranjith': False, 'cal': False, 'drpd': False, 'deeraj': False, 'deepak': False, '5min': False, 'hold': False, 'bcums': False, 'angry': False, 'wid': False, 'dnt': False, 'childish': False, 'true': False, 'showing': False, 'deep': False, 'affection': False, 'care': False, 'kettoda': False, 'manda': False, 'ups': False, '3days': False, 'shipping': False, 'takes': False, '2wks': False, 'other': False, 'usps': False, 'lag': False, 'bribe': False, 'nipost': False, 'lem': False, 'necessarily': False, 'expect': False, 'headin': False, 'mmm': False, 'jolt': False, 'suzy': False, 'lover': False, 'video': False, 'handset': False, '750': False, 'anytime': False, 'networks': False, 'mins': False, 'unlimited': False, 'parked': False, 'mini': False, 'shopping': False, 'own': False, 'disturb': False, 'luton': False, '0125698789': False, 'ring': False, 'h': False, 'horny': False, 'naked': False, 'hot': False, '69698': False, 'unsubscribe': False, 'dint': False, 'wana': False, 'plan': False, 'sometme': False, 'credits': False, 'club4mobiles.com': False, 'choose': False, 'club': False, '87070': False, '150p/wk': False, 'club4': False, 'box1146': False, 'mk45': False, '2wt': False, 'evo': False, 'flash': False, 'jealous': False, 'singles': False, 'chart': False, 'quality': False, 'charge': False, 'sorting': False, 'narcotics': False, 'ended': False, 'sunny': False, 'rays': False, 'leaves': False, 'worries': False, 'blue': False, 'bay': False, 'hmv': False, 'genuine': False, 'questions': False, '86688': False, 'www.100percent-real.com': False, 'might': False, 'objection': False, 'bf': False, 'rob': False}, 0)\n"
     ]
    }
   ],
   "source": [
    "import random\n",
    "# Now lets do it for all the messages\n",
    "messages = list(zip(processed, Y))\n",
    "print(type(messages))\n",
    "print(messages[0])\n",
    "\n",
    "# define a seed for reproducibility\n",
    "seed = 1\n",
    "np.random.seed = seed\n",
    "random.shuffle(messages)\n",
    "print(messages[0])\n",
    "\n",
    "# call find_features function for each SMS message\n",
    "featuresets = [(find_features(text), label) for (text, label) in messages]\n",
    "print(featuresets[0])"
   ]
  },
  {
   "cell_type": "code",
   "execution_count": 47,
   "metadata": {},
   "outputs": [
    {
     "output_type": "stream",
     "name": "stdout",
     "text": [
      "4179\n1393\n"
     ]
    }
   ],
   "source": [
    "# we can split the featuresets into training and testing datasets using sklearn\n",
    "from sklearn.model_selection import train_test_split\n",
    "\n",
    "# split the data into training and testing datasets\n",
    "training, testing = train_test_split(featuresets, test_size = 0.25, random_state=seed)\n",
    "print(len(training))\n",
    "print(len(testing))"
   ]
  },
  {
   "source": [
    "### 4. Scikit-Learn Classifiers with NLTK\n",
    "Now that we have our dataset, we can start building algorithms! Let's start with a simple linear support vector classifier, then expand to other algorithms. We'll need to import each algorithm we plan on using from sklearn. We also need to import some performance metrics, such as accuracy_score and classification_report.\n",
    "\n",
    "\n",
    "\n"
   ],
   "cell_type": "markdown",
   "metadata": {}
  },
  {
   "cell_type": "code",
   "execution_count": 48,
   "metadata": {},
   "outputs": [
    {
     "output_type": "stream",
     "name": "stdout",
     "text": [
      "SVC Accuracy: 97.84637473079684\n"
     ]
    }
   ],
   "source": [
    "# We can use sklearn algorithms in NLTK\n",
    "from nltk.classify.scikitlearn import SklearnClassifier\n",
    "from sklearn.svm import SVC\n",
    "\n",
    "model = SklearnClassifier(SVC(kernel = 'linear'))\n",
    "\n",
    "# train the model on the training data\n",
    "model.train(training)\n",
    "\n",
    "# and test on the testing dataset!\n",
    "accuracy = nltk.classify.accuracy(model, testing)*100\n",
    "print(\"SVC Accuracy: {}\".format(accuracy))\n"
   ]
  },
  {
   "source": [
    "### Can we do better ?"
   ],
   "cell_type": "markdown",
   "metadata": {}
  },
  {
   "cell_type": "code",
   "execution_count": null,
   "metadata": {},
   "outputs": [],
   "source": []
  }
 ]
}